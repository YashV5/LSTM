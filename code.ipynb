{
 "cells": [
  {
   "cell_type": "code",
   "execution_count": null,
   "id": "b7b0291e",
   "metadata": {},
   "outputs": [],
   "source": [
    "import pandas as pd\n",
    "import numpy as np\n",
    "\n",
    "import matplotlib.pyplot as plt\n",
    "import seaborn as sns\n",
    "sns.set_style('whitegrid')\n",
    "plt.style.use(\"fivethirtyeight\")\n",
    "%matplotlib inline\n",
    "\n",
    "from pandas_datareader.data import DataReader\n",
    "import yfinance as yf\n",
    "\n",
    "from datetime import datetime"
   ]
  },
  {
   "cell_type": "code",
   "execution_count": null,
   "id": "e6ab200a",
   "metadata": {},
   "outputs": [],
   "source": [
    "tech_list = ['AAPL', 'GOOG', 'MSFT', 'AMZN']\n",
    "\n",
    "tech_list = ['AAPL', 'GOOG', 'MSFT', 'AMZN']\n",
    "\n",
    "end = datetime.now()\n",
    "start = datetime(end.year - 1, end.month, end.day)\n",
    "\n",
    "for stock in tech_list:\n",
    "    globals()[stock] = yf.download(stock, start, end)"
   ]
  },
  {
   "cell_type": "code",
   "execution_count": null,
   "id": "42370722",
   "metadata": {},
   "outputs": [],
   "source": [
    "company_list = [AAPL, GOOG, MSFT, AMZN]\n",
    "company_name = [\"APPLE\", \"GOOGLE\", \"MICROSOFT\", \"AMAZON\"]\n",
    "\n",
    "for company, com_name in zip(company_list, company_name):\n",
    "    company[\"company_name\"] = com_name\n",
    "    \n",
    "df = pd.concat(company_list, axis=0)\n",
    "df.tail(10)"
   ]
  },
  {
   "cell_type": "code",
   "execution_count": null,
   "id": "4de58362",
   "metadata": {},
   "outputs": [],
   "source": [
    "AAPL.describe()"
   ]
  },
  {
   "cell_type": "code",
   "execution_count": null,
   "id": "a1c7c7e9",
   "metadata": {},
   "outputs": [],
   "source": [
    "AAPL.info()"
   ]
  },
  {
   "cell_type": "code",
   "execution_count": null,
   "id": "2a13dac0",
   "metadata": {},
   "outputs": [],
   "source": [
    "plt.figure(figsize=(15, 6))\n",
    "plt.subplots_adjust(top=1.25, bottom=1.2)\n",
    "\n",
    "for i, company in enumerate(company_list, 1):\n",
    "    plt.subplot(2, 2, i)\n",
    "    company['Adj Close'].plot()\n",
    "    plt.ylabel('Adj Close')\n",
    "    plt.xlabel(None)\n",
    "    plt.title(f\"Closing Price of {tech_list[i - 1]}\")\n",
    "    \n",
    "plt.tight_layout()"
   ]
  },
  {
   "cell_type": "code",
   "execution_count": null,
   "id": "64487426",
   "metadata": {},
   "outputs": [],
   "source": [
    "plt.figure(figsize=(15, 7))\n",
    "plt.subplots_adjust(top=1.25, bottom=1.2)\n",
    "\n",
    "for i, company in enumerate(company_list, 1):\n",
    "    plt.subplot(2, 2, i)\n",
    "    company['Volume'].plot()\n",
    "    plt.ylabel('Volume')\n",
    "    plt.xlabel(None)\n",
    "    plt.title(f\"Sales Volume for {tech_list[i - 1]}\")\n",
    "    \n",
    "plt.tight_layout()"
   ]
  },
  {
   "cell_type": "code",
   "execution_count": null,
   "id": "300a1dd7",
   "metadata": {},
   "outputs": [],
   "source": [
    "ma_day = [10, 20, 50]\n",
    "\n",
    "for ma in ma_day:\n",
    "    for company in company_list:\n",
    "        column_name = f\"MA for {ma} days\"\n",
    "        company[column_name] = company['Adj Close'].rolling(ma).mean()"
   ]
  },
  {
   "cell_type": "code",
   "execution_count": null,
   "id": "72a8e05d",
   "metadata": {},
   "outputs": [],
   "source": [
    "fig, axes = plt.subplots(nrows=2, ncols=2)\n",
    "fig.set_figheight(8)\n",
    "fig.set_figwidth(15)\n",
    "\n",
    "AAPL[['Adj Close', 'MA for 10 days', 'MA for 20 days', 'MA for 50 days']].plot(ax=axes[0,0])\n",
    "axes[0,0].set_title('APPLE')\n",
    "\n",
    "GOOG[['Adj Close', 'MA for 10 days', 'MA for 20 days', 'MA for 50 days']].plot(ax=axes[0,1])\n",
    "axes[0,1].set_title('GOOGLE')\n",
    "\n",
    "MSFT[['Adj Close', 'MA for 10 days', 'MA for 20 days', 'MA for 50 days']].plot(ax=axes[1,0])\n",
    "axes[1,0].set_title('MICROSOFT')\n",
    "\n",
    "AMZN[['Adj Close', 'MA for 10 days', 'MA for 20 days', 'MA for 50 days']].plot(ax=axes[1,1])\n",
    "axes[1,1].set_title('AMAZON')\n",
    "\n",
    "fig.tight_layout()"
   ]
  },
  {
   "cell_type": "code",
   "execution_count": null,
   "id": "6119c8e3",
   "metadata": {},
   "outputs": [],
   "source": [
    "for company in company_list:\n",
    "    company['Daily Return'] = company['Adj Close'].pct_change()\n",
    "\n",
    "fig, axes = plt.subplots(nrows=2, ncols=2)\n",
    "fig.set_figheight(8)\n",
    "fig.set_figwidth(15)\n",
    "\n",
    "AAPL['Daily Return'].plot(ax=axes[0,0], legend=True, linestyle='--', marker='o')\n",
    "axes[0,0].set_title('APPLE')\n",
    "\n",
    "GOOG['Daily Return'].plot(ax=axes[0,1], legend=True, linestyle='--', marker='o')\n",
    "axes[0,1].set_title('GOOGLE')\n",
    "\n",
    "MSFT['Daily Return'].plot(ax=axes[1,0], legend=True, linestyle='--', marker='o')\n",
    "axes[1,0].set_title('MICROSOFT')\n",
    "\n",
    "AMZN['Daily Return'].plot(ax=axes[1,1], legend=True, linestyle='--', marker='o')\n",
    "axes[1,1].set_title('AMAZON')\n",
    "\n",
    "fig.tight_layout()"
   ]
  },
  {
   "cell_type": "code",
   "execution_count": null,
   "id": "a0e10cbd",
   "metadata": {},
   "outputs": [],
   "source": [
    "plt.figure(figsize=(12, 7))\n",
    "\n",
    "for i, company in enumerate(company_list, 1):\n",
    "    plt.subplot(2, 2, i)\n",
    "    company['Daily Return'].hist(bins=50)\n",
    "    plt.ylabel('Daily Return')\n",
    "    plt.title(f'{company_name[i - 1]}')\n",
    "    \n",
    "plt.tight_layout()"
   ]
  },
  {
   "cell_type": "code",
   "execution_count": null,
   "id": "01f09995",
   "metadata": {},
   "outputs": [],
   "source": [
    "closing_df = DataReader(tech_list, 'yahoo', start, end)['Adj Close']\n",
    "\n",
    "closing_df.head()"
   ]
  },
  {
   "cell_type": "code",
   "execution_count": null,
   "id": "fdbb4bd4",
   "metadata": {},
   "outputs": [],
   "source": [
    "tech_rets = closing_df.pct_change()\n",
    "tech_rets.head()"
   ]
  },
  {
   "cell_type": "code",
   "execution_count": null,
   "id": "eb748dde",
   "metadata": {},
   "outputs": [],
   "source": [
    "sns.jointplot(x='GOOG', y='GOOG', data=tech_rets, kind='scatter', color='seagreen')"
   ]
  },
  {
   "cell_type": "code",
   "execution_count": null,
   "id": "d0cab4dd",
   "metadata": {},
   "outputs": [],
   "source": [
    "sns.jointplot(x='GOOG', y='MSFT', data=tech_rets, kind='scatter')"
   ]
  },
  {
   "cell_type": "code",
   "execution_count": null,
   "id": "a699d9f8",
   "metadata": {},
   "outputs": [],
   "source": [
    "sns.pairplot(tech_rets, kind='reg')"
   ]
  },
  {
   "cell_type": "code",
   "execution_count": null,
   "id": "b4351ca6",
   "metadata": {},
   "outputs": [],
   "source": [
    "return_fig = sns.PairGrid(tech_rets.dropna())\n",
    "\n",
    "return_fig.map_upper(plt.scatter, color='purple')\n",
    "\n",
    "return_fig.map_lower(sns.kdeplot, cmap='cool_d')\n",
    "\n",
    "return_fig.map_diag(plt.hist, bins=30)"
   ]
  },
  {
   "cell_type": "code",
   "execution_count": null,
   "id": "16b51501",
   "metadata": {},
   "outputs": [],
   "source": [
    "returns_fig = sns.PairGrid(closing_df)\n",
    "\n",
    "returns_fig.map_upper(plt.scatter,color='purple')\n",
    "\n",
    "returns_fig.map_lower(sns.kdeplot,cmap='cool_d')\n",
    "\n",
    "returns_fig.map_diag(plt.hist,bins=30)"
   ]
  },
  {
   "cell_type": "code",
   "execution_count": null,
   "id": "3759a4fa",
   "metadata": {},
   "outputs": [],
   "source": [
    "sns.heatmap(tech_rets.corr(), annot=True, cmap='summer')"
   ]
  },
  {
   "cell_type": "code",
   "execution_count": null,
   "id": "440fe1fe",
   "metadata": {},
   "outputs": [],
   "source": [
    "sns.heatmap(closing_df.corr(), annot=True, cmap='summer')"
   ]
  },
  {
   "cell_type": "code",
   "execution_count": null,
   "id": "4a1b8d52",
   "metadata": {},
   "outputs": [],
   "source": [
    "rets = tech_rets.dropna()\n",
    "\n",
    "area = np.pi * 20\n",
    "\n",
    "plt.figure(figsize=(10, 7))\n",
    "plt.scatter(rets.mean(), rets.std(), s=area)\n",
    "plt.xlabel('Expected return')\n",
    "plt.ylabel('Risk')\n",
    "\n",
    "for label, x, y in zip(rets.columns, rets.mean(), rets.std()):\n",
    "    plt.annotate(label, xy=(x, y), xytext=(50, 50), textcoords='offset points', ha='right', va='bottom', \n",
    "                 arrowprops=dict(arrowstyle='-', color='blue', connectionstyle='arc3,rad=-0.3'))"
   ]
  },
  {
   "cell_type": "code",
   "execution_count": null,
   "id": "f2a8909e",
   "metadata": {},
   "outputs": [],
   "source": [
    "df = DataReader('AAPL', data_source='yahoo', start='2012-01-01', end=datetime.now())\n",
    "df"
   ]
  },
  {
   "cell_type": "code",
   "execution_count": null,
   "id": "eff84626",
   "metadata": {},
   "outputs": [],
   "source": [
    "plt.figure(figsize=(16,6))\n",
    "plt.title('Close Price History')\n",
    "plt.plot(df['Close'])\n",
    "plt.xlabel('Date', fontsize=18)\n",
    "plt.ylabel('Close Price USD ($)', fontsize=18)\n",
    "plt.show()"
   ]
  },
  {
   "cell_type": "code",
   "execution_count": null,
   "id": "e2eae1ab",
   "metadata": {},
   "outputs": [],
   "source": [
    "data = df.filter(['Close'])\n",
    "dataset = data.values\n",
    "training_data_len = int(np.ceil( len(dataset) * .95 ))\n",
    "\n",
    "training_data_len"
   ]
  },
  {
   "cell_type": "code",
   "execution_count": null,
   "id": "5750774b",
   "metadata": {},
   "outputs": [],
   "source": [
    "from sklearn.preprocessing import MinMaxScaler\n",
    "\n",
    "scaler = MinMaxScaler(feature_range=(0,1))\n",
    "scaled_data = scaler.fit_transform(dataset)\n",
    "\n",
    "scaled_data"
   ]
  },
  {
   "cell_type": "code",
   "execution_count": null,
   "id": "087aaad3",
   "metadata": {},
   "outputs": [],
   "source": [
    "\n",
    "train_data = scaled_data[0:int(training_data_len), :]\n",
    "x_train = []\n",
    "y_train = []\n",
    "\n",
    "for i in range(60, len(train_data)):\n",
    "    x_train.append(train_data[i-60:i, 0])\n",
    "    y_train.append(train_data[i, 0])\n",
    "    if i<= 61:\n",
    "        print(x_train)\n",
    "        print(y_train)\n",
    "        print()\n",
    "        \n",
    "x_train, y_train = np.array(x_train), np.array(y_train)\n",
    "\n",
    "x_train = np.reshape(x_train, (x_train.shape[0], x_train.shape[1], 1))\n"
   ]
  },
  {
   "cell_type": "code",
   "execution_count": null,
   "id": "1ee5c24a",
   "metadata": {},
   "outputs": [],
   "source": [
    "from keras.models import Sequential\n",
    "from keras.layers import Dense, LSTM\n",
    "\n",
    "model = Sequential()\n",
    "model.add(LSTM(128, return_sequences=True, input_shape= (x_train.shape[1], 1)))\n",
    "model.add(LSTM(64, return_sequences=False))\n",
    "model.add(Dense(25))\n",
    "model.add(Dense(1))\n",
    "\n",
    "model.compile(optimizer='adam', loss='mean_squared_error')\n",
    "\n",
    "model.fit(x_train, y_train, batch_size=1, epochs=1)"
   ]
  },
  {
   "cell_type": "code",
   "execution_count": null,
   "id": "0fc32fa8",
   "metadata": {},
   "outputs": [],
   "source": [
    " \n",
    "test_data = scaled_data[training_data_len - 60: , :]\n",
    "x_test = []\n",
    "y_test = dataset[training_data_len:, :]\n",
    "for i in range(60, len(test_data)):\n",
    "    x_test.append(test_data[i-60:i, 0])\n",
    "    \n",
    "x_test = np.array(x_test)\n",
    "\n",
    "x_test = np.reshape(x_test, (x_test.shape[0], x_test.shape[1], 1 ))\n",
    "\n",
    "predictions = model.predict(x_test)\n",
    "predictions = scaler.inverse_transform(predictions)\n",
    "\n",
    "rmse = np.sqrt(np.mean(((predictions - y_test) ** 2)))\n",
    "rmse"
   ]
  },
  {
   "cell_type": "code",
   "execution_count": null,
   "id": "e1e65ab9",
   "metadata": {},
   "outputs": [],
   "source": [
    "train = data[:training_data_len]\n",
    "valid = data[training_data_len:]\n",
    "valid['Predictions'] = predictions\n",
    "plt.figure(figsize=(16,6))\n",
    "plt.title('Model')\n",
    "plt.xlabel('Date', fontsize=18)\n",
    "plt.ylabel('Close Price USD ($)', fontsize=18)\n",
    "plt.plot(train['Close'])\n",
    "plt.plot(valid[['Close', 'Predictions']])\n",
    "plt.legend(['Train', 'Val', 'Predictions'], loc='lower right')\n",
    "plt.show()"
   ]
  },
  {
   "cell_type": "code",
   "execution_count": null,
   "id": "701dc704",
   "metadata": {},
   "outputs": [],
   "source": [
    "valid"
   ]
  },
  {
   "cell_type": "code",
   "execution_count": null,
   "id": "fb7c3762",
   "metadata": {},
   "outputs": [],
   "source": []
  },
  {
   "cell_type": "code",
   "execution_count": null,
   "id": "4d2eaaba",
   "metadata": {},
   "outputs": [],
   "source": []
  }
 ],
 "metadata": {
  "kernelspec": {
   "display_name": "Python 3 (ipykernel)",
   "language": "python",
   "name": "python3"
  },
  "language_info": {
   "codemirror_mode": {
    "name": "ipython",
    "version": 3
   },
   "file_extension": ".py",
   "mimetype": "text/x-python",
   "name": "python",
   "nbconvert_exporter": "python",
   "pygments_lexer": "ipython3",
   "version": "3.9.7"
  }
 },
 "nbformat": 4,
 "nbformat_minor": 5
}
